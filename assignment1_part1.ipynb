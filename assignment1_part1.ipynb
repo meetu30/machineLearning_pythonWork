{
 "cells": [
  {
   "cell_type": "markdown",
   "metadata": {
    "colab_type": "text",
    "id": "_WwChRvWEVjv"
   },
   "source": [
    "# Assignment 1 (Part 1) Exploratory Analysis "
   ]
  },
  {
   "cell_type": "markdown",
   "metadata": {
    "colab_type": "text",
    "id": "T8YvIwkQEVjw"
   },
   "source": [
    "What we'll be doing in this notebook:\n",
    "-----\n",
    "\n",
    " 1.  Checking variable type\n",
    " 2.  Checking for missing variables \n",
    " 3.  Number of observations in the dataset\n",
    " 4.  Descriptive statistics"
   ]
  },
  {
   "cell_type": "markdown",
   "metadata": {
    "colab_type": "text",
    "id": "YdZAl9v5EVjx"
   },
   "source": [
    "### Import packages"
   ]
  },
  {
   "cell_type": "code",
   "execution_count": 5,
   "metadata": {
    "colab": {},
    "colab_type": "code",
    "id": "HTMm2At0EVjy"
   },
   "outputs": [],
   "source": [
    "import pandas as pd\n",
    "import numpy as np\n",
    "import seaborn as sns\n",
    "import matplotlib.pyplot as plt\n",
    "from datetime import datetime\n",
    "import dateutil.parser\n",
    "\n",
    "# The command below means that the output of multiple commands in a cell will be output at once\n",
    "from IPython.core.interactiveshell import InteractiveShell\n",
    "InteractiveShell.ast_node_interactivity = \"all\"\n",
    "\n",
    "# The command below tells jupyter to display up to 80 columns, this keeps everything visible\n",
    "pd.set_option('display.max_columns', 80)\n",
    "pd.set_option('expand_frame_repr', True)\n",
    "\n",
    "# Show figures in notebook\n",
    "%matplotlib inline"
   ]
  },
  {
   "cell_type": "markdown",
   "metadata": {
    "colab_type": "text",
    "id": "JpEqwPxlEVj0"
   },
   "source": [
    "### Import dataset"
   ]
  },
  {
   "cell_type": "markdown",
   "metadata": {
    "colab_type": "text",
    "id": "OOBGQEfjEVj1"
   },
   "source": [
    "We read in our dataset"
   ]
  },
  {
   "cell_type": "markdown",
   "metadata": {
    "colab_type": "text",
    "id": "vafKB4qCLIcM"
   },
   "source": [
    "If git is not installed properly or throw up any error, please use this[ link](https://gist.github.com/derhuerst/1b15ff4652a867391f03) to install git and follow the instructions based on your operation system"
   ]
  },
  {
   "cell_type": "code",
   "execution_count": 7,
   "metadata": {
    "colab": {},
    "colab_type": "code",
    "id": "oGNHipCWEVj3",
    "outputId": "3fc9a0e9-2031-47ac-a911-38ba2bb8cf04"
   },
   "outputs": [
    {
     "name": "stdout",
     "output_type": "stream",
     "text": [
      "file read\n"
     ]
    }
   ],
   "source": [
    "path ='ML_assignment1/'\n",
    "filename = 'loans.csv'\n",
    "\n",
    "try:\n",
    "    df = pd.read_csv(path+filename)\n",
    "    print('file read')\n",
    "except FileNotFoundError:\n",
    "    # If data is not found, download it from GitHub\n",
    "    import os\n",
    "    os.system(f'git clone --single-branch --depth=1 https://github.com/DeltaAnalytics/machine_learning_for_good_data {path}')\n",
    "    df = pd.read_csv(path+filename)"
   ]
  },
  {
   "cell_type": "markdown",
   "metadata": {
    "colab_type": "text",
    "id": "J8zbLStBEVj6"
   },
   "source": [
    "### QUESTION 1 (1 point)"
   ]
  },
  {
   "cell_type": "code",
   "execution_count": 8,
   "metadata": {
    "colab": {},
    "colab_type": "code",
    "id": "d4C4hGGqEVj7"
   },
   "outputs": [
    {
     "name": "stdout",
     "output_type": "stream",
     "text": [
      "      id_number  loan_amount  lender_count       status           funded_date  \\\n",
      "4721    1566246          625            18       funded  2018-07-19T21:11:10Z   \n",
      "3013    1572243          150             1  fundraising                   NaN   \n",
      "\n",
      "      funded_amount  repayment_term location_country_code    sector  \\\n",
      "4721            625               7                    TZ  Clothing   \n",
      "3013             25              20                    MZ   Housing   \n",
      "\n",
      "                                            description  \\\n",
      "4721  Hassan is 43 years old and the married father ...   \n",
      "3013  Isaura is 34 years old, single, and worker at ...   \n",
      "\n",
      "                                                    use  \n",
      "4721  to add more stock of Muslim women's dresses an...  \n",
      "3013               Isaura to buy construction material.  \n"
     ]
    }
   ],
   "source": [
    "#Question 1 (1 point) Write one line of code to display random sample of 2 rows to get a feel for the data.\n",
    "#your code here\n",
    "#\n",
    "#\n",
    "# to get top 5 rows use HEAD function\n",
    "#print(df.head())\n",
    "\n",
    "sample_df = df.sample(n = 2)\n",
    "print(sample_df)"
   ]
  },
  {
   "cell_type": "markdown",
   "metadata": {
    "colab_type": "text",
    "id": "DV8U02qqEVj9"
   },
   "source": [
    "### 1) Type Checking\n",
    "<a id='type_check'></a>"
   ]
  },
  {
   "cell_type": "markdown",
   "metadata": {
    "colab_type": "text",
    "id": "hAl3NojAEVj9"
   },
   "source": [
    "Type is very important in Python programing, because it affects the types of functions you can apply to a series. There are a few different types of data you will see regularly (see [this](https://en.wikibooks.org/wiki/Python_Programming/Data_Types) link for more detail):\n",
    "* **int** - a number with no decimal places. example: loan_amount field\n",
    "* **float** - a number with decimal places. example: partner_id field\n",
    "* **str** - str is short for string. This type formally defined as a sequence of unicode characters. More simply, string means that the data is treated as a word, not a number. example: sector\n",
    "* **boolean** - can only be True or False. There is not currently an example in the data, but we will be creating a gender field shortly.\n",
    "* **datetime** - values meant to hold time data. Example: posted_date\n",
    "\n",
    "Let's check the type of our variables using the examples we saw in the cell above."
   ]
  },
  {
   "cell_type": "code",
   "execution_count": 9,
   "metadata": {
    "colab": {},
    "colab_type": "code",
    "id": "X8DQoFoTEVj_",
    "outputId": "49f3f25c-6e30-48b2-d464-1751c77ff3ae"
   },
   "outputs": [
    {
     "data": {
      "text/plain": [
       "['id_number',\n",
       " 'loan_amount',\n",
       " 'lender_count',\n",
       " 'status',\n",
       " 'funded_date',\n",
       " 'funded_amount',\n",
       " 'repayment_term',\n",
       " 'location_country_code',\n",
       " 'sector',\n",
       " 'description',\n",
       " 'use']"
      ]
     },
     "execution_count": 9,
     "metadata": {},
     "output_type": "execute_result"
    }
   ],
   "source": [
    "# Here are all of the columns\n",
    "df.columns.tolist()"
   ]
  },
  {
   "cell_type": "code",
   "execution_count": 10,
   "metadata": {
    "colab": {},
    "colab_type": "code",
    "id": "lqPCwUw3EVkE",
    "outputId": "4667cdee-92e7-41e8-842d-34b1f0e674a2"
   },
   "outputs": [
    {
     "data": {
      "text/plain": [
       "dtype('int64')"
      ]
     },
     "execution_count": 10,
     "metadata": {},
     "output_type": "execute_result"
    }
   ],
   "source": [
    "# Find the dtype, aka datatype, for a column\n",
    "df['id_number'].dtype"
   ]
  },
  {
   "cell_type": "markdown",
   "metadata": {
    "colab_type": "text",
    "id": "_CnVWRVtEVkJ"
   },
   "source": [
    "### QUESTION 2 (1 point)\n"
   ]
  },
  {
   "cell_type": "code",
   "execution_count": 11,
   "metadata": {
    "colab": {},
    "colab_type": "code",
    "id": "TQu2GW7JEVkK"
   },
   "outputs": [
    {
     "data": {
      "text/plain": [
       "dtype('int64')"
      ]
     },
     "execution_count": 11,
     "metadata": {},
     "output_type": "execute_result"
    },
    {
     "data": {
      "text/plain": [
       "dtype('int64')"
      ]
     },
     "execution_count": 11,
     "metadata": {},
     "output_type": "execute_result"
    },
    {
     "data": {
      "text/plain": [
       "dtype('O')"
      ]
     },
     "execution_count": 11,
     "metadata": {},
     "output_type": "execute_result"
    }
   ],
   "source": [
    "# Question 2 (1 point) - Pick 2 columns (different than the one illustrated above) and check their type on your own\n",
    "\n",
    "#integer type\n",
    "df['lender_count'].dtype\n",
    "#integer type\n",
    "df['funded_amount'].dtype\n",
    "#Object type\n",
    "df['location_country_code'].dtype\n",
    "\n",
    "\n",
    "\n",
    "\n"
   ]
  },
  {
   "cell_type": "markdown",
   "metadata": {
    "colab_type": "text",
    "id": "FUdfyfG5EVkL"
   },
   "source": [
    "### 2) Do I have missing values?\n",
    "\n",
    "<a id='missing_check'></a>"
   ]
  },
  {
   "cell_type": "markdown",
   "metadata": {
    "colab_type": "text",
    "id": "gk3D7OGCEVkN"
   },
   "source": [
    "If we have missing data, is the missing data at random or not? If data is missing at random, the data distribution is still representative of the population. You can probably ignore the missing values as an inconvenience. However, if the data is systematically missing, the analysis you do may be biased. You should carefully consider the best way to clean the data, it may involve dropping some data."
   ]
  },
  {
   "cell_type": "markdown",
   "metadata": {
    "colab_type": "text",
    "id": "cCnUsQrFEVkP"
   },
   "source": [
    "We want to see how many values are missing in certain variable columns. One way to do this is to count the number of null observations. \n",
    "\n",
    "For this, we wrote a short function to apply to the dataframe. \n",
    "\n",
    "We print out the first few observations, but you can remove the .head() to print out all columns. "
   ]
  },
  {
   "cell_type": "markdown",
   "metadata": {
    "colab_type": "text",
    "id": "kRHApY3aIXRS"
   },
   "source": [
    "For more information about the apply function of pandas please take a look [here](https://pandas.pydata.org/pandas-docs/version/0.22/generated/pandas.DataFrame.apply.html)\n",
    "\n",
    "For more information about the keyword lambda and how to use it appropriately, please refer [here](https://www.w3schools.com/python/python_lambda.asp)"
   ]
  },
  {
   "cell_type": "code",
   "execution_count": 12,
   "metadata": {
    "colab": {},
    "colab_type": "code",
    "id": "DQZnPL7QEVkP",
    "outputId": "be26a419-06a9-41ed-fe51-ac79f573ad9b"
   },
   "outputs": [
    {
     "name": "stdout",
     "output_type": "stream",
     "text": [
      "Missing values per column:\n",
      "funded_date              937.0\n",
      "location_country_code     17.0\n",
      "description              342.0\n",
      "use                      342.0\n",
      "dtype: float64\n"
     ]
    }
   ],
   "source": [
    "#Create a new function:\n",
    "def num_missing(x):\n",
    "    return sum(x.isnull())\n",
    "\n",
    "#Applying per column:\n",
    "print(\"Missing values per column:\")\n",
    "## Check how many are missing by column, and then check which ones have any missing values\n",
    "print(df.apply(num_missing, axis=0).where(lambda x : x != 0).dropna().head(20)) \n",
    "#axis=0 defines that function is to be applied on each column"
   ]
  },
  {
   "cell_type": "markdown",
   "metadata": {
    "colab_type": "text",
    "id": "WCNm-XOWEVkU"
   },
   "source": [
    "### 3) Sanity Checks\n",
    "<a id='obs_check'></a>"
   ]
  },
  {
   "cell_type": "markdown",
   "metadata": {
    "colab_type": "text",
    "id": "TugxXiTUEVkU"
   },
   "source": [
    "**Does the dataset match what you expected to find?**\n",
    "- is the range of values what you would expect. For example, are all loan_amounts above 0.\n",
    "- do you have the number of rows you would expect\n",
    "- is your data for the date range you would expect. For example, is there a strange year in the data like 1880.\n",
    "- are there unexpected spikes when you plot the data over time\n",
    "\n",
    "\n",
    "In the command below we find out the number of loans and number of columns by using the function shape. You can also use len(df.index) to find the number of rows."
   ]
  },
  {
   "cell_type": "code",
   "execution_count": 13,
   "metadata": {
    "colab": {},
    "colab_type": "code",
    "id": "weAIXOSQEVkV",
    "outputId": "ff6112db-3c33-4fee-8bdc-a7f9fa3e4a3f"
   },
   "outputs": [
    {
     "name": "stdout",
     "output_type": "stream",
     "text": [
      "There are 6019 observations and 11 features\n"
     ]
    }
   ],
   "source": [
    "print(f'There are {df.shape[0]} observations and {df.shape[1]} features')"
   ]
  },
  {
   "cell_type": "markdown",
   "metadata": {
    "colab_type": "text",
    "id": "xuYhICG8EVkY"
   },
   "source": [
    "Remember, each row is an observation and each column is a potential feature. \n",
    "\n",
    "Remember we need large about of data for machine learning."
   ]
  },
  {
   "cell_type": "markdown",
   "metadata": {
    "colab_type": "text",
    "id": "SoazO_PJEVka"
   },
   "source": [
    "### 4) Descriptive statistics of the dataset\n",
    "\n",
    "<a id='desc_stats'></a>"
   ]
  },
  {
   "cell_type": "markdown",
   "metadata": {
    "colab_type": "text",
    "id": "epWcHJJAEVka"
   },
   "source": [
    "The \"describe\" command below provides key summary statistics for each numeric column."
   ]
  },
  {
   "cell_type": "code",
   "execution_count": 14,
   "metadata": {
    "colab": {},
    "colab_type": "code",
    "id": "USuAfSAuEVkb",
    "outputId": "a1c9e7e3-5fb8-4cc9-e925-427ad9f65bb5"
   },
   "outputs": [
    {
     "data": {
      "text/html": [
       "<div>\n",
       "<style scoped>\n",
       "    .dataframe tbody tr th:only-of-type {\n",
       "        vertical-align: middle;\n",
       "    }\n",
       "\n",
       "    .dataframe tbody tr th {\n",
       "        vertical-align: top;\n",
       "    }\n",
       "\n",
       "    .dataframe thead th {\n",
       "        text-align: right;\n",
       "    }\n",
       "</style>\n",
       "<table border=\"1\" class=\"dataframe\">\n",
       "  <thead>\n",
       "    <tr style=\"text-align: right;\">\n",
       "      <th></th>\n",
       "      <th>id_number</th>\n",
       "      <th>loan_amount</th>\n",
       "      <th>lender_count</th>\n",
       "      <th>funded_amount</th>\n",
       "      <th>repayment_term</th>\n",
       "    </tr>\n",
       "  </thead>\n",
       "  <tbody>\n",
       "    <tr>\n",
       "      <th>count</th>\n",
       "      <td>6.019000e+03</td>\n",
       "      <td>6019.000000</td>\n",
       "      <td>6019.000000</td>\n",
       "      <td>6019.000000</td>\n",
       "      <td>6019.000000</td>\n",
       "    </tr>\n",
       "    <tr>\n",
       "      <th>mean</th>\n",
       "      <td>1.359770e+06</td>\n",
       "      <td>1499.011464</td>\n",
       "      <td>35.661406</td>\n",
       "      <td>1325.070610</td>\n",
       "      <td>11.803290</td>\n",
       "    </tr>\n",
       "    <tr>\n",
       "      <th>std</th>\n",
       "      <td>3.719316e+05</td>\n",
       "      <td>2512.517280</td>\n",
       "      <td>73.420256</td>\n",
       "      <td>2444.726815</td>\n",
       "      <td>9.114948</td>\n",
       "    </tr>\n",
       "    <tr>\n",
       "      <th>min</th>\n",
       "      <td>1.377200e+04</td>\n",
       "      <td>50.000000</td>\n",
       "      <td>0.000000</td>\n",
       "      <td>0.000000</td>\n",
       "      <td>3.000000</td>\n",
       "    </tr>\n",
       "    <tr>\n",
       "      <th>25%</th>\n",
       "      <td>1.425188e+06</td>\n",
       "      <td>300.000000</td>\n",
       "      <td>7.000000</td>\n",
       "      <td>200.000000</td>\n",
       "      <td>8.000000</td>\n",
       "    </tr>\n",
       "    <tr>\n",
       "      <th>50%</th>\n",
       "      <td>1.550673e+06</td>\n",
       "      <td>625.000000</td>\n",
       "      <td>16.000000</td>\n",
       "      <td>525.000000</td>\n",
       "      <td>10.000000</td>\n",
       "    </tr>\n",
       "    <tr>\n",
       "      <th>75%</th>\n",
       "      <td>1.566204e+06</td>\n",
       "      <td>1825.000000</td>\n",
       "      <td>41.000000</td>\n",
       "      <td>1525.000000</td>\n",
       "      <td>14.000000</td>\n",
       "    </tr>\n",
       "    <tr>\n",
       "      <th>max</th>\n",
       "      <td>1.573593e+06</td>\n",
       "      <td>80000.000000</td>\n",
       "      <td>2665.000000</td>\n",
       "      <td>80000.000000</td>\n",
       "      <td>133.000000</td>\n",
       "    </tr>\n",
       "  </tbody>\n",
       "</table>\n",
       "</div>"
      ],
      "text/plain": [
       "          id_number   loan_amount  lender_count  funded_amount  repayment_term\n",
       "count  6.019000e+03   6019.000000   6019.000000    6019.000000     6019.000000\n",
       "mean   1.359770e+06   1499.011464     35.661406    1325.070610       11.803290\n",
       "std    3.719316e+05   2512.517280     73.420256    2444.726815        9.114948\n",
       "min    1.377200e+04     50.000000      0.000000       0.000000        3.000000\n",
       "25%    1.425188e+06    300.000000      7.000000     200.000000        8.000000\n",
       "50%    1.550673e+06    625.000000     16.000000     525.000000       10.000000\n",
       "75%    1.566204e+06   1825.000000     41.000000    1525.000000       14.000000\n",
       "max    1.573593e+06  80000.000000   2665.000000   80000.000000      133.000000"
      ]
     },
     "execution_count": 14,
     "metadata": {},
     "output_type": "execute_result"
    }
   ],
   "source": [
    "df.describe()"
   ]
  },
  {
   "cell_type": "markdown",
   "metadata": {
    "colab_type": "text",
    "id": "V3qZ9i2-EVkf"
   },
   "source": [
    "In order to get the same summary statistics for categorical columns (string) we need to do a little data wrangling. The first line of code filters for all columns that are a data type object. As we know from before this means they are considered to be a string. The final row of code provides summary statistics for these character fields."
   ]
  },
  {
   "cell_type": "code",
   "execution_count": 15,
   "metadata": {
    "colab": {},
    "colab_type": "code",
    "id": "JxB5by6LEVkg",
    "outputId": "64136e27-26cc-4371-9303-fc2303a0fc5e"
   },
   "outputs": [
    {
     "data": {
      "text/html": [
       "<div>\n",
       "<style scoped>\n",
       "    .dataframe tbody tr th:only-of-type {\n",
       "        vertical-align: middle;\n",
       "    }\n",
       "\n",
       "    .dataframe tbody tr th {\n",
       "        vertical-align: top;\n",
       "    }\n",
       "\n",
       "    .dataframe thead th {\n",
       "        text-align: right;\n",
       "    }\n",
       "</style>\n",
       "<table border=\"1\" class=\"dataframe\">\n",
       "  <thead>\n",
       "    <tr style=\"text-align: right;\">\n",
       "      <th></th>\n",
       "      <th>status</th>\n",
       "      <th>funded_date</th>\n",
       "      <th>location_country_code</th>\n",
       "      <th>sector</th>\n",
       "      <th>description</th>\n",
       "      <th>use</th>\n",
       "    </tr>\n",
       "  </thead>\n",
       "  <tbody>\n",
       "    <tr>\n",
       "      <th>count</th>\n",
       "      <td>6019</td>\n",
       "      <td>5082</td>\n",
       "      <td>6002</td>\n",
       "      <td>6019</td>\n",
       "      <td>5677</td>\n",
       "      <td>5677</td>\n",
       "    </tr>\n",
       "    <tr>\n",
       "      <th>unique</th>\n",
       "      <td>3</td>\n",
       "      <td>4453</td>\n",
       "      <td>30</td>\n",
       "      <td>14</td>\n",
       "      <td>5277</td>\n",
       "      <td>4325</td>\n",
       "    </tr>\n",
       "    <tr>\n",
       "      <th>top</th>\n",
       "      <td>funded</td>\n",
       "      <td>2018-07-22T15:54:41Z</td>\n",
       "      <td>CD</td>\n",
       "      <td>Food</td>\n",
       "      <td>Charles is 30 years old and a married father o...</td>\n",
       "      <td>to pay for a stove.</td>\n",
       "    </tr>\n",
       "    <tr>\n",
       "      <th>freq</th>\n",
       "      <td>5082</td>\n",
       "      <td>9</td>\n",
       "      <td>400</td>\n",
       "      <td>1738</td>\n",
       "      <td>2</td>\n",
       "      <td>80</td>\n",
       "    </tr>\n",
       "  </tbody>\n",
       "</table>\n",
       "</div>"
      ],
      "text/plain": [
       "        status           funded_date location_country_code sector  \\\n",
       "count     6019                  5082                  6002   6019   \n",
       "unique       3                  4453                    30     14   \n",
       "top     funded  2018-07-22T15:54:41Z                    CD   Food   \n",
       "freq      5082                     9                   400   1738   \n",
       "\n",
       "                                              description                  use  \n",
       "count                                                5677                 5677  \n",
       "unique                                               5277                 4325  \n",
       "top     Charles is 30 years old and a married father o...  to pay for a stove.  \n",
       "freq                                                    2                   80  "
      ]
     },
     "execution_count": 15,
     "metadata": {},
     "output_type": "execute_result"
    }
   ],
   "source": [
    "categorical = df.dtypes[df.dtypes == \"object\"].index\n",
    "df[categorical].describe()"
   ]
  },
  {
   "cell_type": "markdown",
   "metadata": {
    "colab_type": "text",
    "id": "TODnO3F3EVkk"
   },
   "source": [
    "In the table above, there are 4 really useful fields: \n",
    "\n",
    "1) **count** - total number of fields populated (Not empty). \n",
    "\n",
    "2) **unique** - tells us how many different unique ways this field is populated. For example 4 in description.languages tells us there are 4 different language descriptions. \n",
    "\n",
    "3) **top** - tells us the most popular data point. For example, the top activity in this dataset is Farming which tells us most loans are in Farming.\n",
    "\n",
    "4) **freq** - tells us that how frequent the most popular category is in our dataset. For example, 'en' (English) is the language almost all descriptions (description.languages) are written in (118,306 out of 118,316)."
   ]
  },
  {
   "cell_type": "markdown",
   "metadata": {
    "colab_type": "text",
    "id": "iyDMiNsIEVkl"
   },
   "source": [
    "What is next\n",
    "-----\n",
    "\n",
    "In the next part, we will have more questions on exploratory data analysis (EDA)."
   ]
  },
  {
   "cell_type": "markdown",
   "metadata": {
    "colab_type": "text",
    "id": "s5VsiCiZEVkn"
   },
   "source": [
    "<br>\n",
    "<br> \n",
    "<br>\n",
    "\n",
    "----"
   ]
  }
 ],
 "metadata": {
  "colab": {
   "collapsed_sections": [],
   "name": "assignment1_part1.ipynb",
   "provenance": [],
   "version": "0.3.2"
  },
  "kernelspec": {
   "display_name": "Python 3",
   "language": "python",
   "name": "python3"
  },
  "language_info": {
   "codemirror_mode": {
    "name": "ipython",
    "version": 3
   },
   "file_extension": ".py",
   "mimetype": "text/x-python",
   "name": "python",
   "nbconvert_exporter": "python",
   "pygments_lexer": "ipython3",
   "version": "3.6.5"
  }
 },
 "nbformat": 4,
 "nbformat_minor": 1
}
