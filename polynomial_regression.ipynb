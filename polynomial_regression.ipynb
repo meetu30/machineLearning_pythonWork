{
 "cells": [
  {
   "cell_type": "markdown",
   "metadata": {},
   "source": [
    "## Assignment 2 (Part b):  Polynomial Regression\n",
    "\n",
    "The univariate (one dependent variable) and multivariate (more than one dependent variable) linear regression we have discussed so far always assumes a linear relationship between the independent and dependent variables.  In the real world, it is very common to have data where there is a non-linear relationship between the independent and dependent variables.  In these cases, we can use polynomial regression where we assume the relationship between the independent variable x and the dependent variable(s) y is modelled as an nth degree polynomial in x.\n",
    "\n",
    "For example, we discussed briefly in lecture that the relationship between number of miles walked per day and age can be modeled by a quadratic equation."
   ]
  },
  {
   "cell_type": "code",
   "execution_count": 1,
   "metadata": {},
   "outputs": [],
   "source": [
    "import numpy as np\n",
    "import matplotlib.pyplot as plt\n",
    "import statistics as s\n",
    "import pandas as pd\n",
    "import seaborn as sns\n",
    "plt.rcParams['figure.figsize'] = (12, 8)\n",
    "sns.set()\n",
    "sns.set(font_scale=1.5)\n",
    "\n",
    "import statsmodels.formula.api as sm\n",
    "from sklearn.model_selection import train_test_split\n",
    "\n",
    "np.random.seed(1234)"
   ]
  },
  {
   "cell_type": "code",
   "execution_count": 2,
   "metadata": {},
   "outputs": [],
   "source": [
    "kms = np.random.normal(5, 2, 50)\n",
    "ages = np.random.normal(40,13,50)\n",
    "ages = [a if a > 0 else -a for a in ages]"
   ]
  },
  {
   "cell_type": "code",
   "execution_count": 3,
   "metadata": {},
   "outputs": [
    {
     "name": "stdout",
     "output_type": "stream",
     "text": [
      "50\n",
      "50\n"
     ]
    }
   ],
   "source": [
    "first_kms = sorted(kms[0:int(round(len(kms)/2,0))])\n",
    "second_kms = sorted(kms[int(round(len(kms)/2,0)):len(kms)], reverse=True)\n",
    "\n",
    "ages = sorted(ages)\n",
    "kms = first_kms + second_kms\n",
    "print(len(kms))\n",
    "print(len(ages))"
   ]
  },
  {
   "cell_type": "code",
   "execution_count": 4,
   "metadata": {},
   "outputs": [],
   "source": [
    "df = pd.DataFrame({\"age\": ages, \"kilometers\": kms})"
   ]
  },
  {
   "cell_type": "code",
   "execution_count": 5,
   "metadata": {
    "scrolled": true
   },
   "outputs": [
    {
     "data": {
      "text/html": [
       "<div>\n",
       "<style scoped>\n",
       "    .dataframe tbody tr th:only-of-type {\n",
       "        vertical-align: middle;\n",
       "    }\n",
       "\n",
       "    .dataframe tbody tr th {\n",
       "        vertical-align: top;\n",
       "    }\n",
       "\n",
       "    .dataframe thead th {\n",
       "        text-align: right;\n",
       "    }\n",
       "</style>\n",
       "<table border=\"1\" class=\"dataframe\">\n",
       "  <thead>\n",
       "    <tr style=\"text-align: right;\">\n",
       "      <th></th>\n",
       "      <th>age</th>\n",
       "      <th>kilometers</th>\n",
       "    </tr>\n",
       "  </thead>\n",
       "  <tbody>\n",
       "    <tr>\n",
       "      <th>0</th>\n",
       "      <td>6.325717</td>\n",
       "      <td>0.514630</td>\n",
       "    </tr>\n",
       "    <tr>\n",
       "      <th>1</th>\n",
       "      <td>8.794103</td>\n",
       "      <td>0.957490</td>\n",
       "    </tr>\n",
       "    <tr>\n",
       "      <th>2</th>\n",
       "      <td>21.204469</td>\n",
       "      <td>1.906189</td>\n",
       "    </tr>\n",
       "    <tr>\n",
       "      <th>3</th>\n",
       "      <td>21.774347</td>\n",
       "      <td>2.618049</td>\n",
       "    </tr>\n",
       "    <tr>\n",
       "      <th>4</th>\n",
       "      <td>25.015432</td>\n",
       "      <td>3.558823</td>\n",
       "    </tr>\n",
       "    <tr>\n",
       "      <th>5</th>\n",
       "      <td>25.145793</td>\n",
       "      <td>3.688061</td>\n",
       "    </tr>\n",
       "    <tr>\n",
       "      <th>6</th>\n",
       "      <td>26.103146</td>\n",
       "      <td>3.726953</td>\n",
       "    </tr>\n",
       "    <tr>\n",
       "      <th>7</th>\n",
       "      <td>26.637943</td>\n",
       "      <td>4.331845</td>\n",
       "    </tr>\n",
       "    <tr>\n",
       "      <th>8</th>\n",
       "      <td>27.334928</td>\n",
       "      <td>4.374696</td>\n",
       "    </tr>\n",
       "    <tr>\n",
       "      <th>9</th>\n",
       "      <td>27.958694</td>\n",
       "      <td>4.594707</td>\n",
       "    </tr>\n",
       "    <tr>\n",
       "      <th>10</th>\n",
       "      <td>29.789342</td>\n",
       "      <td>5.004237</td>\n",
       "    </tr>\n",
       "    <tr>\n",
       "      <th>11</th>\n",
       "      <td>32.398663</td>\n",
       "      <td>5.031393</td>\n",
       "    </tr>\n",
       "    <tr>\n",
       "      <th>12</th>\n",
       "      <td>32.872848</td>\n",
       "      <td>5.386843</td>\n",
       "    </tr>\n",
       "    <tr>\n",
       "      <th>13</th>\n",
       "      <td>33.345543</td>\n",
       "      <td>5.578184</td>\n",
       "    </tr>\n",
       "    <tr>\n",
       "      <th>14</th>\n",
       "      <td>34.408756</td>\n",
       "      <td>5.810907</td>\n",
       "    </tr>\n",
       "    <tr>\n",
       "      <th>15</th>\n",
       "      <td>34.800460</td>\n",
       "      <td>5.942870</td>\n",
       "    </tr>\n",
       "    <tr>\n",
       "      <th>16</th>\n",
       "      <td>35.518042</td>\n",
       "      <td>6.106878</td>\n",
       "    </tr>\n",
       "    <tr>\n",
       "      <th>17</th>\n",
       "      <td>37.289516</td>\n",
       "      <td>6.719177</td>\n",
       "    </tr>\n",
       "    <tr>\n",
       "      <th>18</th>\n",
       "      <td>38.119946</td>\n",
       "      <td>6.774326</td>\n",
       "    </tr>\n",
       "    <tr>\n",
       "      <th>19</th>\n",
       "      <td>38.688063</td>\n",
       "      <td>6.906648</td>\n",
       "    </tr>\n",
       "    <tr>\n",
       "      <th>20</th>\n",
       "      <td>38.934688</td>\n",
       "      <td>6.983892</td>\n",
       "    </tr>\n",
       "    <tr>\n",
       "      <th>21</th>\n",
       "      <td>39.085517</td>\n",
       "      <td>7.300071</td>\n",
       "    </tr>\n",
       "    <tr>\n",
       "      <th>22</th>\n",
       "      <td>39.538331</td>\n",
       "      <td>7.636303</td>\n",
       "    </tr>\n",
       "    <tr>\n",
       "      <th>23</th>\n",
       "      <td>40.513665</td>\n",
       "      <td>7.642316</td>\n",
       "    </tr>\n",
       "    <tr>\n",
       "      <th>24</th>\n",
       "      <td>41.037950</td>\n",
       "      <td>7.865414</td>\n",
       "    </tr>\n",
       "    <tr>\n",
       "      <th>25</th>\n",
       "      <td>41.984197</td>\n",
       "      <td>9.781921</td>\n",
       "    </tr>\n",
       "    <tr>\n",
       "      <th>26</th>\n",
       "      <td>42.138884</td>\n",
       "      <td>7.117938</td>\n",
       "    </tr>\n",
       "    <tr>\n",
       "      <th>27</th>\n",
       "      <td>42.754484</td>\n",
       "      <td>7.095157</td>\n",
       "    </tr>\n",
       "    <tr>\n",
       "      <th>28</th>\n",
       "      <td>42.950513</td>\n",
       "      <td>7.091877</td>\n",
       "    </tr>\n",
       "    <tr>\n",
       "      <th>29</th>\n",
       "      <td>43.520866</td>\n",
       "      <td>6.727435</td>\n",
       "    </tr>\n",
       "    <tr>\n",
       "      <th>30</th>\n",
       "      <td>44.003595</td>\n",
       "      <td>6.683349</td>\n",
       "    </tr>\n",
       "    <tr>\n",
       "      <th>31</th>\n",
       "      <td>44.602264</td>\n",
       "      <td>6.510828</td>\n",
       "    </tr>\n",
       "    <tr>\n",
       "      <th>32</th>\n",
       "      <td>46.006777</td>\n",
       "      <td>6.351108</td>\n",
       "    </tr>\n",
       "    <tr>\n",
       "      <th>33</th>\n",
       "      <td>46.037100</td>\n",
       "      <td>5.674875</td>\n",
       "    </tr>\n",
       "    <tr>\n",
       "      <th>34</th>\n",
       "      <td>46.805604</td>\n",
       "      <td>5.495584</td>\n",
       "    </tr>\n",
       "    <tr>\n",
       "      <th>35</th>\n",
       "      <td>46.867746</td>\n",
       "      <td>5.430537</td>\n",
       "    </tr>\n",
       "    <tr>\n",
       "      <th>36</th>\n",
       "      <td>47.354598</td>\n",
       "      <td>5.249426</td>\n",
       "    </tr>\n",
       "    <tr>\n",
       "      <th>37</th>\n",
       "      <td>48.215733</td>\n",
       "      <td>5.152399</td>\n",
       "    </tr>\n",
       "    <tr>\n",
       "      <th>38</th>\n",
       "      <td>49.154967</td>\n",
       "      <td>5.072284</td>\n",
       "    </tr>\n",
       "    <tr>\n",
       "      <th>39</th>\n",
       "      <td>49.161368</td>\n",
       "      <td>5.036578</td>\n",
       "    </tr>\n",
       "    <tr>\n",
       "      <th>40</th>\n",
       "      <td>49.975794</td>\n",
       "      <td>4.755817</td>\n",
       "    </tr>\n",
       "    <tr>\n",
       "      <th>41</th>\n",
       "      <td>50.615721</td>\n",
       "      <td>4.726410</td>\n",
       "    </tr>\n",
       "    <tr>\n",
       "      <th>42</th>\n",
       "      <td>50.933114</td>\n",
       "      <td>4.633783</td>\n",
       "    </tr>\n",
       "    <tr>\n",
       "      <th>43</th>\n",
       "      <td>52.803958</td>\n",
       "      <td>4.354410</td>\n",
       "    </tr>\n",
       "    <tr>\n",
       "      <th>44</th>\n",
       "      <td>53.439410</td>\n",
       "      <td>4.204320</td>\n",
       "    </tr>\n",
       "    <tr>\n",
       "      <th>45</th>\n",
       "      <td>57.174373</td>\n",
       "      <td>4.061389</td>\n",
       "    </tr>\n",
       "    <tr>\n",
       "      <th>46</th>\n",
       "      <td>58.095821</td>\n",
       "      <td>3.867108</td>\n",
       "    </tr>\n",
       "    <tr>\n",
       "      <th>47</th>\n",
       "      <td>60.093564</td>\n",
       "      <td>3.205686</td>\n",
       "    </tr>\n",
       "    <tr>\n",
       "      <th>48</th>\n",
       "      <td>66.101958</td>\n",
       "      <td>1.365946</td>\n",
       "    </tr>\n",
       "    <tr>\n",
       "      <th>49</th>\n",
       "      <td>66.397847</td>\n",
       "      <td>0.850045</td>\n",
       "    </tr>\n",
       "  </tbody>\n",
       "</table>\n",
       "</div>"
      ],
      "text/plain": [
       "          age  kilometers\n",
       "0    6.325717    0.514630\n",
       "1    8.794103    0.957490\n",
       "2   21.204469    1.906189\n",
       "3   21.774347    2.618049\n",
       "4   25.015432    3.558823\n",
       "5   25.145793    3.688061\n",
       "6   26.103146    3.726953\n",
       "7   26.637943    4.331845\n",
       "8   27.334928    4.374696\n",
       "9   27.958694    4.594707\n",
       "10  29.789342    5.004237\n",
       "11  32.398663    5.031393\n",
       "12  32.872848    5.386843\n",
       "13  33.345543    5.578184\n",
       "14  34.408756    5.810907\n",
       "15  34.800460    5.942870\n",
       "16  35.518042    6.106878\n",
       "17  37.289516    6.719177\n",
       "18  38.119946    6.774326\n",
       "19  38.688063    6.906648\n",
       "20  38.934688    6.983892\n",
       "21  39.085517    7.300071\n",
       "22  39.538331    7.636303\n",
       "23  40.513665    7.642316\n",
       "24  41.037950    7.865414\n",
       "25  41.984197    9.781921\n",
       "26  42.138884    7.117938\n",
       "27  42.754484    7.095157\n",
       "28  42.950513    7.091877\n",
       "29  43.520866    6.727435\n",
       "30  44.003595    6.683349\n",
       "31  44.602264    6.510828\n",
       "32  46.006777    6.351108\n",
       "33  46.037100    5.674875\n",
       "34  46.805604    5.495584\n",
       "35  46.867746    5.430537\n",
       "36  47.354598    5.249426\n",
       "37  48.215733    5.152399\n",
       "38  49.154967    5.072284\n",
       "39  49.161368    5.036578\n",
       "40  49.975794    4.755817\n",
       "41  50.615721    4.726410\n",
       "42  50.933114    4.633783\n",
       "43  52.803958    4.354410\n",
       "44  53.439410    4.204320\n",
       "45  57.174373    4.061389\n",
       "46  58.095821    3.867108\n",
       "47  60.093564    3.205686\n",
       "48  66.101958    1.365946\n",
       "49  66.397847    0.850045"
      ]
     },
     "execution_count": 5,
     "metadata": {},
     "output_type": "execute_result"
    }
   ],
   "source": [
    "df\n",
    "#below is a dataframe I made to experiment with polynomial regression"
   ]
  },
  {
   "cell_type": "markdown",
   "metadata": {},
   "source": [
    "## Question 1. Plot histogram of age and kilometers and age vs. kilometers (sample output shown in the graphs below) (2 points)\n"
   ]
  },
  {
   "cell_type": "code",
   "execution_count": 6,
   "metadata": {},
   "outputs": [
    {
     "data": {
      "image/png": "[encoded data removed]",
      "text/plain": [
       "<Figure size 432x288 with 1 Axes>"
      ]
     },
     "metadata": {},
     "output_type": "display_data"
    }
   ],
   "source": [
    "#your code here\n",
    "#sample output shown below\n",
    "import numpy as np\n",
    "import matplotlib.mlab as mlab\n",
    "import matplotlib.pyplot as plt\n",
    " \n",
    "num_bins = 5\n",
    "plt.hist(df['age'], num_bins, facecolor='blue', alpha=0.5)\n",
    "plt.title('Age Histogram')\n",
    "plt.show()"
   ]
  },
  {
   "cell_type": "code",
   "execution_count": 7,
   "metadata": {},
   "outputs": [
    {
     "data": {
      "image/png": "[encoded data removed]",
      "text/plain": [
       "<Figure size 432x288 with 1 Axes>"
      ]
     },
     "metadata": {},
     "output_type": "display_data"
    }
   ],
   "source": [
    "#your code here\n",
    "#sample output shown here\n",
    "import numpy as np\n",
    "import matplotlib.mlab as mlab\n",
    "import matplotlib.pyplot as plt\n",
    " \n",
    "num_bins = 5\n",
    "plt.hist(df['kilometers'], num_bins, facecolor='blue', alpha=0.5, rwidth = 0.9)\n",
    "plt.title('Kilometers Histogram')\n",
    "plt.show()"
   ]
  },
  {
   "cell_type": "code",
   "execution_count": 8,
   "metadata": {},
   "outputs": [
    {
     "data": {
      "image/png": "[encoded data removed]",
      "text/plain": [
       "<Figure size 432x288 with 1 Axes>"
      ]
     },
     "metadata": {},
     "output_type": "display_data"
    }
   ],
   "source": [
    "# plot kilometers vs. age\n",
    "#your code goes here\n",
    "#sample output shown below\n",
    "import numpy as np\n",
    "import matplotlib.mlab as mlab\n",
    "import matplotlib.pyplot as plt\n",
    " \n",
    "#plt.hist(df['age'], num_bins, facecolor='blue', alpha=0.5)\n",
    "Age = df['age']\n",
    "Kms = df['kilometers']\n",
    "plt.scatter(Age, Kms, edgecolors='r')\n",
    "plt.xlabel('Age')\n",
    "plt.ylabel('Kilometers')\n",
    "plt.title('Scatter plot of kilometers walked in a day vs age')\n",
    "plt.show()"
   ]
  },
  {
   "cell_type": "markdown",
   "metadata": {},
   "source": [
    "## Question 2. Does the above relationship look linear to you?  If no, what kind of relationship do you think it is? (1 point)\n"
   ]
  },
  {
   "cell_type": "markdown",
   "metadata": {},
   "source": [
    "Does the above relationship look linear to you?  If no, what kind of relationship do you think it is?\n",
    "The relationship betweenage and kilomerters walked is positive initially because as the age increases, kilometers walked also increases but after 40 years of age, we see negative correlation between the 2 variables, which means that with the increase in age, number of kilometers walked decreases. \n",
    "\n",
    "</br>\n",
    "</br>\n",
    "</br>"
   ]
  },
  {
   "cell_type": "markdown",
   "metadata": {},
   "source": [
    "## Question 3. Fit a parabola (a 2-degree polynomial) to the data (3 points)\n"
   ]
  },
  {
   "cell_type": "code",
   "execution_count": 9,
   "metadata": {},
   "outputs": [],
   "source": [
    "pd.options.mode.chained_assignment = None  # default='warn'\n"
   ]
  },
  {
   "cell_type": "code",
   "execution_count": 10,
   "metadata": {},
   "outputs": [],
   "source": [
    "#Square the age column\n",
    "#A = np.power(df['age'], 2)\n",
    "df['age_square']  = np.square(df['age'])\n"
   ]
  },
  {
   "cell_type": "code",
   "execution_count": 11,
   "metadata": {},
   "outputs": [
    {
     "data": {
      "text/html": [
       "<div>\n",
       "<style scoped>\n",
       "    .dataframe tbody tr th:only-of-type {\n",
       "        vertical-align: middle;\n",
       "    }\n",
       "\n",
       "    .dataframe tbody tr th {\n",
       "        vertical-align: top;\n",
       "    }\n",
       "\n",
       "    .dataframe thead th {\n",
       "        text-align: right;\n",
       "    }\n",
       "</style>\n",
       "<table border=\"1\" class=\"dataframe\">\n",
       "  <thead>\n",
       "    <tr style=\"text-align: right;\">\n",
       "      <th></th>\n",
       "      <th>age</th>\n",
       "      <th>kilometers</th>\n",
       "      <th>age_square</th>\n",
       "    </tr>\n",
       "  </thead>\n",
       "  <tbody>\n",
       "    <tr>\n",
       "      <th>0</th>\n",
       "      <td>6.325717</td>\n",
       "      <td>0.514630</td>\n",
       "      <td>40.014690</td>\n",
       "    </tr>\n",
       "    <tr>\n",
       "      <th>1</th>\n",
       "      <td>8.794103</td>\n",
       "      <td>0.957490</td>\n",
       "      <td>77.336243</td>\n",
       "    </tr>\n",
       "    <tr>\n",
       "      <th>2</th>\n",
       "      <td>21.204469</td>\n",
       "      <td>1.906189</td>\n",
       "      <td>449.629506</td>\n",
       "    </tr>\n",
       "    <tr>\n",
       "      <th>3</th>\n",
       "      <td>21.774347</td>\n",
       "      <td>2.618049</td>\n",
       "      <td>474.122202</td>\n",
       "    </tr>\n",
       "    <tr>\n",
       "      <th>4</th>\n",
       "      <td>25.015432</td>\n",
       "      <td>3.558823</td>\n",
       "      <td>625.771817</td>\n",
       "    </tr>\n",
       "  </tbody>\n",
       "</table>\n",
       "</div>"
      ],
      "text/plain": [
       "         age  kilometers  age_square\n",
       "0   6.325717    0.514630   40.014690\n",
       "1   8.794103    0.957490   77.336243\n",
       "2  21.204469    1.906189  449.629506\n",
       "3  21.774347    2.618049  474.122202\n",
       "4  25.015432    3.558823  625.771817"
      ]
     },
     "execution_count": 11,
     "metadata": {},
     "output_type": "execute_result"
    }
   ],
   "source": [
    "#concatenating new col ageSq with existing dataset\n",
    "#df = pd.concat([df, A], axis=1) \n",
    "df.head()"
   ]
  },
  {
   "cell_type": "code",
   "execution_count": 12,
   "metadata": {},
   "outputs": [],
   "source": [
    "# Define our dependent variable\n",
    "y_column = 'kilometers'\n",
    "y = df[y_column]\n",
    "# Define our independent variables\n",
    "x_columns = ['age', 'age_square']\n",
    "X = df[x_columns]\n",
    "\n",
    "# Add an intercept term to the independent variables. This is needed in order to include the constant term from\n",
    "# linear regression equation.\n",
    "X['intercept'] = 1"
   ]
  },
  {
   "cell_type": "code",
   "execution_count": 13,
   "metadata": {},
   "outputs": [],
   "source": [
    "#import the library\n",
    "from sklearn.linear_model import LinearRegression"
   ]
  },
  {
   "cell_type": "code",
   "execution_count": 14,
   "metadata": {},
   "outputs": [],
   "source": [
    "# Split our data into training and test data sets\n",
    "X_train, X_test, y_train, y_test = train_test_split(X, y, test_size=0.2, random_state=41)"
   ]
  },
  {
   "cell_type": "code",
   "execution_count": 15,
   "metadata": {},
   "outputs": [
    {
     "name": "stdout",
     "output_type": "stream",
     "text": [
      "                            OLS Regression Results                            \n",
      "==============================================================================\n",
      "Dep. Variable:             kilometers   R-squared:                       0.715\n",
      "Model:                            OLS   Adj. R-squared:                  0.700\n",
      "Method:                 Least Squares   F-statistic:                     46.50\n",
      "Date:                Wed, 20 Feb 2019   Prob (F-statistic):           8.02e-11\n",
      "Time:                        23:17:07   Log-Likelihood:                -59.372\n",
      "No. Observations:                  40   AIC:                             124.7\n",
      "Df Residuals:                      37   BIC:                             129.8\n",
      "Df Model:                           2                                         \n",
      "Covariance Type:            nonrobust                                         \n",
      "==============================================================================\n",
      "                 coef    std err          t      P>|t|      [0.025      0.975]\n",
      "------------------------------------------------------------------------------\n",
      "age            0.5432      0.056      9.614      0.000       0.429       0.658\n",
      "age_square    -0.0069      0.001     -9.135      0.000      -0.008      -0.005\n",
      "intercept     -4.3455      1.039     -4.180      0.000      -6.452      -2.239\n",
      "==============================================================================\n",
      "Omnibus:                        6.997   Durbin-Watson:                   1.542\n",
      "Prob(Omnibus):                  0.030   Jarque-Bera (JB):                5.803\n",
      "Skew:                           0.730   Prob(JB):                       0.0549\n",
      "Kurtosis:                       4.162   Cond. No.                     1.22e+04\n",
      "==============================================================================\n",
      "\n",
      "Warnings:\n",
      "[1] Standard Errors assume that the covariance matrix of the errors is correctly specified.\n",
      "[2] The condition number is large, 1.22e+04. This might indicate that there are\n",
      "strong multicollinearity or other numerical problems.\n"
     ]
    }
   ],
   "source": [
    "#your code goes here\n",
    "#sm.OLS refers to simple ordinary least square model\n",
    "#endog - endogenous response variable. The dependent variable.\n",
    "#exog - A nobs x k array where nobs is the number of observations and k is the number of regressors.\n",
    "model = sm.OLS(endog=y_train, exog=X_train)\n",
    "model_fit = model.fit()\n",
    "print(model_fit.summary())\n",
    "\n",
    "#sample output shown below"
   ]
  },
  {
   "cell_type": "code",
   "execution_count": 17,
   "metadata": {},
   "outputs": [
    {
     "data": {
      "text/plain": [
       "-4.34552794437377"
      ]
     },
     "execution_count": 17,
     "metadata": {},
     "output_type": "execute_result"
    }
   ],
   "source": [
    "model_fit.params.intercept"
   ]
  },
  {
   "cell_type": "markdown",
   "metadata": {},
   "source": [
    "## Question 4. Predit on training data and plot the results (1 point)\n"
   ]
  },
  {
   "cell_type": "code",
   "execution_count": 18,
   "metadata": {},
   "outputs": [],
   "source": [
    "# Get predictions for the training data and plot\n",
    "\n",
    "#your code goes here\n",
    "#sample output shown below\n",
    "y_pred_train = model_fit.predict(X_train)\n"
   ]
  },
  {
   "cell_type": "code",
   "execution_count": 19,
   "metadata": {},
   "outputs": [],
   "source": [
    "#store 40 age values from train dataset to age_train variable\n",
    "age_train = X_train.iloc[:,0]"
   ]
  },
  {
   "cell_type": "code",
   "execution_count": 20,
   "metadata": {},
   "outputs": [
    {
     "data": {
      "text/plain": [
       "Text(0,0.5,'Kilometers')"
      ]
     },
     "execution_count": 20,
     "metadata": {},
     "output_type": "execute_result"
    },
    {
     "data": {
      "image/png": "[encoded data removed]",
      "text/plain": [
       "<Figure size 648x504 with 1 Axes>"
      ]
     },
     "metadata": {},
     "output_type": "display_data"
    }
   ],
   "source": [
    "plt.figure(figsize=(9,7))\n",
    "\n",
    "#the below scatter plots compares train predicted and actual kilometer values\n",
    "#plot age_train values Vs predicted values in green\n",
    "plt.scatter(age_train,y_pred_train, alpha=0.5, c='g', label= \"preds\")\n",
    "\n",
    "#plot actual age values Vs actual Kms values of training data in red\n",
    "plt.scatter(age_train,y_train, alpha=0.5, c='r', label = \"kilometers\")\n",
    "\n",
    "#for adding labels and title\n",
    "plt.legend()\n",
    "plt.legend()\n",
    "plt.title('predicted and true kilometers by age for training data')\n",
    "plt.xlabel('Age')\n",
    "plt.ylabel('Kilometers')"
   ]
  },
  {
   "cell_type": "markdown",
   "metadata": {},
   "source": [
    "## Question 5.  Finish this notebook to fit the model to the test data.  How is the fit? (4 points)\n"
   ]
  },
  {
   "cell_type": "code",
   "execution_count": 21,
   "metadata": {},
   "outputs": [],
   "source": [
    "y_pred_test = model_fit.predict(X_test)"
   ]
  },
  {
   "cell_type": "code",
   "execution_count": 22,
   "metadata": {},
   "outputs": [],
   "source": [
    "#stores 10 age data values of test data in test_age variable\n",
    "test_age = X_test.iloc[:,0:1]\n",
    "#test_age"
   ]
  },
  {
   "cell_type": "code",
   "execution_count": 23,
   "metadata": {},
   "outputs": [
    {
     "data": {
      "text/plain": [
       "<matplotlib.legend.Legend at 0x1e7d47fc630>"
      ]
     },
     "execution_count": 23,
     "metadata": {},
     "output_type": "execute_result"
    },
    {
     "data": {
      "image/png": "[encoded data removed]",
      "text/plain": [
       "<Figure size 648x504 with 1 Axes>"
      ]
     },
     "metadata": {},
     "output_type": "display_data"
    }
   ],
   "source": [
    "plt.figure(figsize=(9,7))\n",
    "#the below scatter plots compares predicted and actual kilometer values\n",
    "#plot test_age values Vs predicted values in green\n",
    "plt.scatter(test_age,y_pred_test, alpha=0.5, c='g',label= \"preds\")\n",
    "\n",
    "#plot actual age values Vs actual Kms values in red\n",
    "plt.scatter(test_age,y_test, alpha=0.5, c='r',label= \"kilometers\")\n",
    "\n",
    "#for adding labels and title\n",
    "plt.title('predicted and true kilometers by age for test data')\n",
    "plt.xlabel('Age')\n",
    "plt.ylabel('Kilometers')\n",
    "plt.legend()"
   ]
  },
  {
   "cell_type": "code",
   "execution_count": 30,
   "metadata": {},
   "outputs": [
    {
     "name": "stdout",
     "output_type": "stream",
     "text": [
      "0.3976475134564331\n"
     ]
    }
   ],
   "source": [
    "from sklearn import metrics\n",
    "#to Print MSE for test data\n",
    "#source: https://towardsdatascience.com/linear-regression-in-python-9a1f5f000606\n",
    "print(metrics.mean_squared_error(y_test,y_pred_test))"
   ]
  },
  {
   "cell_type": "code",
   "execution_count": 33,
   "metadata": {},
   "outputs": [
    {
     "name": "stdout",
     "output_type": "stream",
     "text": [
      "1.1396754424975004\n"
     ]
    }
   ],
   "source": [
    "#to Print MSE for train data\n",
    "print(metrics.mean_squared_error(y_train,y_pred_train))"
   ]
  },
  {
   "cell_type": "code",
   "execution_count": 31,
   "metadata": {
    "scrolled": true
   },
   "outputs": [
    {
     "name": "stdout",
     "output_type": "stream",
     "text": [
      "0.6305929855750325\n"
     ]
    }
   ],
   "source": [
    "#to print RMSE for test data\n",
    "print(np.sqrt(metrics.mean_squared_error(y_test,y_pred_test)))"
   ]
  },
  {
   "cell_type": "code",
   "execution_count": 35,
   "metadata": {},
   "outputs": [
    {
     "name": "stdout",
     "output_type": "stream",
     "text": [
      "1.0675558264079217\n"
     ]
    }
   ],
   "source": [
    "#to print RMSE for train data\n",
    "print(np.sqrt(metrics.mean_squared_error(y_train,y_pred_train)))"
   ]
  },
  {
   "cell_type": "code",
   "execution_count": 32,
   "metadata": {},
   "outputs": [
    {
     "name": "stdout",
     "output_type": "stream",
     "text": [
      "0.8390175458041148\n"
     ]
    }
   ],
   "source": [
    "r2 = r2_score(y_test,y_pred_test)\n",
    "print(r2)"
   ]
  },
  {
   "cell_type": "code",
   "execution_count": 34,
   "metadata": {},
   "outputs": [
    {
     "name": "stdout",
     "output_type": "stream",
     "text": [
      "0.715377959967922\n"
     ]
    }
   ],
   "source": [
    "r2_train = r2_score(y_train,y_pred_train)\n",
    "print(r2_train)"
   ]
  },
  {
   "cell_type": "markdown",
   "metadata": {},
   "source": [
    "The training data set has 40 values and the predicted values in green shows parabola shape. The test data has 10 rows and it also shows parabola shape as opposed to the original data set values, which initially show positive correlation between kms and age but then after the age of 40, there exist negative correlation between age and Kms. \n",
    "The r-square value for train data was 71.5% but for test data is 83.9%.\n",
    "Also the RMSE and MSE values for are more for train data than for test data. so we can say that the scatter plot \n",
    "from test data (as shown in Q5) is better fit."
   ]
  }
 ],
 "metadata": {
  "kernelspec": {
   "display_name": "Python 3",
   "language": "python",
   "name": "python3"
  },
  "language_info": {
   "codemirror_mode": {
    "name": "ipython",
    "version": 3
   },
   "file_extension": ".py",
   "mimetype": "text/x-python",
   "name": "python",
   "nbconvert_exporter": "python",
   "pygments_lexer": "ipython3",
   "version": "3.6.5"
  }
 },
 "nbformat": 4,
 "nbformat_minor": 2
}
